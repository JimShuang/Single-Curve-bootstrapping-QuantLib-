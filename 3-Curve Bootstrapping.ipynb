{
 "cells": [
  {
   "cell_type": "code",
   "execution_count": 1,
   "metadata": {},
   "outputs": [],
   "source": [
    "import QuantLib as ql\n",
    "import matplotlib.pyplot as plt"
   ]
  },
  {
   "cell_type": "code",
   "execution_count": 2,
   "metadata": {},
   "outputs": [],
   "source": [
    "#Jan 12, 2012\n",
    "today = ql.Date(12, 1, 2012)\n",
    "ql.Settings.instance().evaluationDate = today"
   ]
  },
  {
   "cell_type": "markdown",
   "metadata": {},
   "source": [
    "## Helpers"
   ]
  },
  {
   "cell_type": "markdown",
   "metadata": {},
   "source": [
    "The quotes are hypothestical"
   ]
  },
  {
   "cell_type": "code",
   "execution_count": 3,
   "metadata": {},
   "outputs": [],
   "source": [
    "Cash_rate = [1.2, 1.3]\n",
    "Cash_mat = [ql.Period(1,ql.Months), ql.Period(3, ql.Months)]\n",
    "Cash_helpers = [ql.DepositRateHelper(ql.QuoteHandle(ql.SimpleQuote(rate/100)), mat, 0, \n",
    "                                ql.UnitedStates(), ql.Following, False, ql.Thirty360())\n",
    "               for rate, mat in\n",
    "                zip(Cash_rate, Cash_mat)\n",
    "               ]"
   ]
  },
  {
   "cell_type": "code",
   "execution_count": 4,
   "metadata": {},
   "outputs": [],
   "source": [
    "# start date of Eurodollar Future must be the third Wednesday of March, June, September or December\n",
    "start_date = ql.Date(21, 3, 2012)\n",
    "Future_helpers = [ql.FuturesRateHelper(ql.QuoteHandle(ql.SimpleQuote(98.2)), \n",
    "                start_date, 3, ql.UnitedStates(), ql.Following, False, \n",
    "                                      ql.Actual360(), ql.QuoteHandle(ql.SimpleQuote(0.0)))]"
   ]
  },
  {
   "cell_type": "code",
   "execution_count": 5,
   "metadata": {},
   "outputs": [],
   "source": [
    "Swap_rate = [1.9, 2.0, 2.2, 2.5]\n",
    "Swap_mat = [ql.Period(1,ql.Years), ql.Period(2, ql.Years), ql.Period(3, ql.Years), ql.Period(5, ql.Years)]\n",
    "\n",
    "#Libor_Index = ql.IborIndex(\"USD3M\", ql.Period(3, ql.Months), 0, USDCurrency, ql.UnitedStates(), ql.Following, True, ql.Thirty360())\n",
    "#watch out ql.Semiannual without parentheses; USDLibor need Tenor as the argument\n",
    "Swap_helpers = [ql.SwapRateHelper(ql.QuoteHandle(ql.SimpleQuote(rate/100.0)), mat, ql.UnitedStates(), \n",
    "                ql.Semiannual, ql.Following, ql.Thirty360(), ql.USDLibor(ql.Period(3, ql.Months)))\n",
    "               for rate, mat in zip(Swap_rate, Swap_mat)]\n"
   ]
  },
  {
   "cell_type": "code",
   "execution_count": 6,
   "metadata": {},
   "outputs": [],
   "source": [
    "Helpers = Cash_helpers + Future_helpers + Swap_helpers\n",
    "yieldcurve_1 = ql.PiecewiseLogCubicDiscount(today, Helpers, ql.Actual360())\n",
    "yieldcurve_2 = ql.PiecewiseLinearZero(today, Helpers, ql.Actual360())\n",
    "yieldcurve_3 = ql.PiecewiseCubicZero(today, Helpers, ql.Actual360())\n",
    "yieldcurve_4 = ql.PiecewiseLogLinearDiscount(today, Helpers, ql.Actual360())"
   ]
  },
  {
   "cell_type": "markdown",
   "metadata": {},
   "source": [
    "## comparison of different interpolation methods"
   ]
  },
  {
   "cell_type": "code",
   "execution_count": 7,
   "metadata": {},
   "outputs": [
    {
     "data": {
      "text/plain": [
       "(Date(12,1,2012),\n",
       " Date(13,2,2012),\n",
       " Date(12,4,2012),\n",
       " Date(21,6,2012),\n",
       " Date(17,1,2013),\n",
       " Date(17,1,2014),\n",
       " Date(20,1,2015),\n",
       " Date(17,1,2017))"
      ]
     },
     "execution_count": 7,
     "metadata": {},
     "output_type": "execute_result"
    }
   ],
   "source": [
    "anchor_dates = yieldcurve_1.dates()\n",
    "anchor_dates"
   ]
  },
  {
   "cell_type": "code",
   "execution_count": 8,
   "metadata": {},
   "outputs": [
    {
     "name": "stdout",
     "output_type": "stream",
     "text": [
      "reference date:  January 12th, 2012\n"
     ]
    }
   ],
   "source": [
    "dfs_1 = []\n",
    "dfs_2 = []\n",
    "dfs_3 = []\n",
    "dfs_4 = []\n",
    "DCFs = []\n",
    "ref_date = yieldcurve_1.referenceDate()\n",
    "print 'reference date: ', ref_date\n",
    "for date in anchor_dates:\n",
    "    DCFs.append(ql.ActualActual().yearFraction(ref_date, date))\n",
    "    dfs_1.append(yieldcurve_1.discount(date))\n",
    "    dfs_2.append(yieldcurve_2.discount(date))\n",
    "    dfs_3.append(yieldcurve_3.discount(date))\n",
    "    dfs_4.append(yieldcurve_4.discount(date))"
   ]
  },
  {
   "cell_type": "code",
   "execution_count": 9,
   "metadata": {},
   "outputs": [
    {
     "data": {
      "text/plain": [
       "[<matplotlib.lines.Line2D at 0x8bc6128>]"
      ]
     },
     "execution_count": 9,
     "metadata": {},
     "output_type": "execute_result"
    },
    {
     "data": {
      "image/png": "[encoded data removed]",
      "text/plain": [
       "<Figure size 432x288 with 1 Axes>"
      ]
     },
     "metadata": {},
     "output_type": "display_data"
    }
   ],
   "source": [
    "plt.plot(DCFs, dfs_1,\"r.\", label = 'Cubic Log Discount')\n",
    "plt.plot(DCFs, dfs_2,\"b--\", label = 'Linear Zero')\n",
    "plt.plot(DCFs, dfs_3, 'green', label = 'Cubic Zero')\n",
    "plt.plot(DCFs, dfs_4, 'm*', label = 'Linear Log Discount')"
   ]
  },
  {
   "cell_type": "code",
   "execution_count": 10,
   "metadata": {},
   "outputs": [],
   "source": [
    "#generate monthly dates and calculate forward rates\n",
    "monthly_dates = [ref_date]\n",
    "num_months = 199\n",
    "for i in range(num_months):\n",
    "    #monthly_dates.append(ref_date + ql.Period(i, ql.Weeks))\n",
    "    monthly_dates.append(monthly_dates[-1] + ql.Period(1, ql.Weeks))"
   ]
  },
  {
   "cell_type": "code",
   "execution_count": 11,
   "metadata": {},
   "outputs": [],
   "source": [
    "#monthly_dates"
   ]
  },
  {
   "cell_type": "code",
   "execution_count": 12,
   "metadata": {},
   "outputs": [],
   "source": [
    "fwd_1 = []\n",
    "fwd_2 = []\n",
    "fwd_3 = []\n",
    "fwd_4 = []\n",
    "tenors = []\n",
    "#we need .rate() in the end to extract the number\n",
    "for i in range(50,num_months):\n",
    "    tenors.append(ql.Thirty360().yearFraction(ref_date, monthly_dates[i]))\n",
    "    fwd_1.append(yieldcurve_1.forwardRate(monthly_dates[i], monthly_dates[i+1], \n",
    "                                         ql.Thirty360(), ql.Continuous).rate())\n",
    "    fwd_2.append(yieldcurve_2.forwardRate(monthly_dates[i], monthly_dates[i+1], \n",
    "                                         ql.Thirty360(), ql.Continuous).rate())\n",
    "    fwd_3.append(yieldcurve_3.forwardRate(monthly_dates[i], monthly_dates[i+1], \n",
    "                                         ql.Thirty360(), ql.Continuous).rate())\n",
    "    fwd_4.append(yieldcurve_4.forwardRate(monthly_dates[i], monthly_dates[i+1], \n",
    "                                         ql.Thirty360(), ql.Continuous).rate())"
   ]
  },
  {
   "cell_type": "code",
   "execution_count": 13,
   "metadata": {},
   "outputs": [
    {
     "data": {
      "text/plain": [
       "<matplotlib.legend.Legend at 0x8c85d68>"
      ]
     },
     "execution_count": 13,
     "metadata": {},
     "output_type": "execute_result"
    },
    {
     "data": {
      "image/png": "[encoded data removed]",
      "text/plain": [
       "<Figure size 432x288 with 1 Axes>"
      ]
     },
     "metadata": {},
     "output_type": "display_data"
    }
   ],
   "source": [
    "#plt.plot(tenors, fwd_1,\"r.\", label = 'Cubic Log Discount')\n",
    "plt.plot(tenors, fwd_2,\"b--\", label = 'Linear Zero')\n",
    "#plt.plot(tenors, fwd_3, 'green', label = 'Cubic Zero')\n",
    "plt.plot(tenors, fwd_4, 'm*', label = 'Log Linear DF')\n",
    "plt.legend()"
   ]
  },
  {
   "cell_type": "markdown",
   "metadata": {},
   "source": [
    "This looks more promising, in the sense that loglinearDF interpolation generate stepwise forward rates between each anchor dates. \n",
    "But why there are points which are much higher?"
   ]
  },
  {
   "cell_type": "code",
   "execution_count": 15,
   "metadata": {},
   "outputs": [
    {
     "name": "stdout",
     "output_type": "stream",
     "text": [
      "December 27th, 2012 \t\tJanuary 3rd, 2013 \t\t0.958 \t\t0.0241457427225\n",
      "January 3rd, 2013 \t\tJanuary 10th, 2013 \t\t0.975 \t\t0.020696350905\n",
      "January 10th, 2013 \t\tJanuary 17th, 2013 \t\t0.994 \t\t0.020696350905\n",
      "January 17th, 2013 \t\tJanuary 24th, 2013 \t\t1.014 \t\t0.020625874986\n",
      "January 24th, 2013 \t\tJanuary 31st, 2013 \t\t1.033 \t\t0.020625874986\n",
      "January 31st, 2013 \t\tFebruary 7th, 2013 \t\t1.053 \t\t0.020625874986\n",
      "February 7th, 2013 \t\tFebruary 14th, 2013 \t\t1.069 \t\t0.020625874986\n",
      "February 14th, 2013 \t\tFebruary 21st, 2013 \t\t1.089 \t\t0.020625874986\n",
      "February 21st, 2013 \t\tFebruary 28th, 2013 \t\t1.108 \t\t0.020625874986\n",
      "February 28th, 2013 \t\tMarch 7th, 2013 \t\t1.128 \t\t0.0160423472113\n",
      "March 7th, 2013 \t\tMarch 14th, 2013 \t\t1.153 \t\t0.020625874986\n",
      "March 14th, 2013 \t\tMarch 21st, 2013 \t\t1.172 \t\t0.020625874986\n",
      "March 21st, 2013 \t\tMarch 28th, 2013 \t\t1.192 \t\t0.020625874986\n",
      "March 28th, 2013 \t\tApril 4th, 2013 \t\t1.211 \t\t0.024063520817\n",
      "April 4th, 2013 \t\tApril 11th, 2013 \t\t1.228 \t\t0.020625874986\n",
      "April 11th, 2013 \t\tApril 18th, 2013 \t\t1.247 \t\t0.020625874986\n",
      "April 18th, 2013 \t\tApril 25th, 2013 \t\t1.267 \t\t0.020625874986\n",
      "April 25th, 2013 \t\tMay 2nd, 2013 \t\t1.286 \t\t0.020625874986\n",
      "May 2nd, 2013 \t\tMay 9th, 2013 \t\t1.306 \t\t0.020625874986\n",
      "May 9th, 2013 \t\tMay 16th, 2013 \t\t1.325 \t\t0.020625874986\n",
      "May 16th, 2013 \t\tMay 23rd, 2013 \t\t1.344 \t\t0.020625874986\n",
      "May 23rd, 2013 \t\tMay 30th, 2013 \t\t1.364 \t\t0.020625874986\n",
      "May 30th, 2013 \t\tJune 6th, 2013 \t\t1.383 \t\t0.024063520817\n",
      "June 6th, 2013 \t\tJune 13th, 2013 \t\t1.4 \t\t0.020625874986\n",
      "June 13th, 2013 \t\tJune 20th, 2013 \t\t1.419 \t\t0.020625874986\n",
      "June 20th, 2013 \t\tJune 27th, 2013 \t\t1.439 \t\t0.020625874986\n",
      "June 27th, 2013 \t\tJuly 4th, 2013 \t\t1.458 \t\t0.020625874986\n",
      "July 4th, 2013 \t\tJuly 11th, 2013 \t\t1.478 \t\t0.020625874986\n",
      "July 11th, 2013 \t\tJuly 18th, 2013 \t\t1.497 \t\t0.020625874986\n",
      "July 18th, 2013 \t\tJuly 25th, 2013 \t\t1.517 \t\t0.020625874986\n",
      "July 25th, 2013 \t\tAugust 1st, 2013 \t\t1.536 \t\t0.024063520817\n",
      "August 1st, 2013 \t\tAugust 8th, 2013 \t\t1.553 \t\t0.020625874986\n",
      "August 8th, 2013 \t\tAugust 15th, 2013 \t\t1.572 \t\t0.020625874986\n",
      "August 15th, 2013 \t\tAugust 22nd, 2013 \t\t1.592 \t\t0.020625874986\n",
      "August 22nd, 2013 \t\tAugust 29th, 2013 \t\t1.611 \t\t0.020625874986\n",
      "August 29th, 2013 \t\tSeptember 5th, 2013 \t\t1.631 \t\t0.024063520817\n",
      "September 5th, 2013 \t\tSeptember 12th, 2013 \t\t1.647 \t\t0.020625874986\n",
      "September 12th, 2013 \t\tSeptember 19th, 2013 \t\t1.667 \t\t0.020625874986\n",
      "September 19th, 2013 \t\tSeptember 26th, 2013 \t\t1.686 \t\t0.020625874986\n",
      "September 26th, 2013 \t\tOctober 3rd, 2013 \t\t1.706 \t\t0.020625874986\n",
      "October 3rd, 2013 \t\tOctober 10th, 2013 \t\t1.725 \t\t0.020625874986\n",
      "October 10th, 2013 \t\tOctober 17th, 2013 \t\t1.744 \t\t0.020625874986\n",
      "October 17th, 2013 \t\tOctober 24th, 2013 \t\t1.764 \t\t0.020625874986\n",
      "October 24th, 2013 \t\tOctober 31st, 2013 \t\t1.783 \t\t0.020625874986\n",
      "October 31st, 2013 \t\tNovember 7th, 2013 \t\t1.803 \t\t0.020625874986\n",
      "November 7th, 2013 \t\tNovember 14th, 2013 \t\t1.819 \t\t0.020625874986\n",
      "November 14th, 2013 \t\tNovember 21st, 2013 \t\t1.839 \t\t0.020625874986\n",
      "November 21st, 2013 \t\tNovember 28th, 2013 \t\t1.858 \t\t0.020625874986\n",
      "November 28th, 2013 \t\tDecember 5th, 2013 \t\t1.878 \t\t0.020625874986\n",
      "December 5th, 2013 \t\tDecember 12th, 2013 \t\t1.897 \t\t0.020625874986\n",
      "December 12th, 2013 \t\tDecember 19th, 2013 \t\t1.917 \t\t0.020625874986\n",
      "December 19th, 2013 \t\tDecember 26th, 2013 \t\t1.936 \t\t0.020625874986\n",
      "December 26th, 2013 \t\tJanuary 2nd, 2014 \t\t1.956 \t\t0.024063520817\n",
      "January 2nd, 2014 \t\tJanuary 9th, 2014 \t\t1.972 \t\t0.020625874986\n",
      "January 9th, 2014 \t\tJanuary 16th, 2014 \t\t1.992 \t\t0.020625874986\n",
      "January 16th, 2014 \t\tJanuary 23rd, 2014 \t\t2.011 \t\t0.0248793105565\n",
      "January 23rd, 2014 \t\tJanuary 30th, 2014 \t\t2.031 \t\t0.0255882164849\n",
      "January 30th, 2014 \t\tFebruary 6th, 2014 \t\t2.05 \t\t0.0298529192324\n",
      "February 6th, 2014 \t\tFebruary 13th, 2014 \t\t2.067 \t\t0.0255882164849\n",
      "February 13th, 2014 \t\tFebruary 20th, 2014 \t\t2.086 \t\t0.0255882164849\n",
      "February 20th, 2014 \t\tFebruary 27th, 2014 \t\t2.106 \t\t0.0255882164849\n",
      "February 27th, 2014 \t\tMarch 6th, 2014 \t\t2.125 \t\t0.0199019461549\n",
      "March 6th, 2014 \t\tMarch 13th, 2014 \t\t2.15 \t\t0.0255882164849\n",
      "March 13th, 2014 \t\tMarch 20th, 2014 \t\t2.169 \t\t0.0255882164849\n",
      "March 20th, 2014 \t\tMarch 27th, 2014 \t\t2.189 \t\t0.0255882164849\n",
      "March 27th, 2014 \t\tApril 3rd, 2014 \t\t2.208 \t\t0.0298529192324\n",
      "April 3rd, 2014 \t\tApril 10th, 2014 \t\t2.225 \t\t0.0255882164849\n",
      "April 10th, 2014 \t\tApril 17th, 2014 \t\t2.244 \t\t0.0255882164849\n",
      "April 17th, 2014 \t\tApril 24th, 2014 \t\t2.264 \t\t0.0255882164849\n",
      "April 24th, 2014 \t\tMay 1st, 2014 \t\t2.283 \t\t0.0255882164849\n",
      "May 1st, 2014 \t\tMay 8th, 2014 \t\t2.303 \t\t0.0255882164849\n",
      "May 8th, 2014 \t\tMay 15th, 2014 \t\t2.322 \t\t0.0255882164849\n",
      "May 15th, 2014 \t\tMay 22nd, 2014 \t\t2.342 \t\t0.0255882164849\n",
      "May 22nd, 2014 \t\tMay 29th, 2014 \t\t2.361 \t\t0.0255882164849\n",
      "May 29th, 2014 \t\tJune 5th, 2014 \t\t2.381 \t\t0.0298529192324\n",
      "June 5th, 2014 \t\tJune 12th, 2014 \t\t2.397 \t\t0.0255882164849\n",
      "June 12th, 2014 \t\tJune 19th, 2014 \t\t2.417 \t\t0.0255882164849\n",
      "June 19th, 2014 \t\tJune 26th, 2014 \t\t2.436 \t\t0.0255882164849\n",
      "June 26th, 2014 \t\tJuly 3rd, 2014 \t\t2.456 \t\t0.0255882164849\n",
      "July 3rd, 2014 \t\tJuly 10th, 2014 \t\t2.475 \t\t0.0255882164849\n",
      "July 10th, 2014 \t\tJuly 17th, 2014 \t\t2.494 \t\t0.0255882164849\n",
      "July 17th, 2014 \t\tJuly 24th, 2014 \t\t2.514 \t\t0.0255882164849\n",
      "July 24th, 2014 \t\tJuly 31st, 2014 \t\t2.533 \t\t0.0255882164849\n",
      "July 31st, 2014 \t\tAugust 7th, 2014 \t\t2.553 \t\t0.0255882164849\n",
      "August 7th, 2014 \t\tAugust 14th, 2014 \t\t2.569 \t\t0.0255882164849\n",
      "August 14th, 2014 \t\tAugust 21st, 2014 \t\t2.589 \t\t0.0255882164849\n",
      "August 21st, 2014 \t\tAugust 28th, 2014 \t\t2.608 \t\t0.0255882164849\n",
      "August 28th, 2014 \t\tSeptember 4th, 2014 \t\t2.628 \t\t0.0298529192324\n",
      "September 4th, 2014 \t\tSeptember 11th, 2014 \t\t2.644 \t\t0.0255882164849\n",
      "September 11th, 2014 \t\tSeptember 18th, 2014 \t\t2.664 \t\t0.0255882164849\n",
      "September 18th, 2014 \t\tSeptember 25th, 2014 \t\t2.683 \t\t0.0255882164849\n",
      "September 25th, 2014 \t\tOctober 2nd, 2014 \t\t2.703 \t\t0.0255882164849\n",
      "October 2nd, 2014 \t\tOctober 9th, 2014 \t\t2.722 \t\t0.0255882164849\n",
      "October 9th, 2014 \t\tOctober 16th, 2014 \t\t2.742 \t\t0.0255882164849\n",
      "October 16th, 2014 \t\tOctober 23rd, 2014 \t\t2.761 \t\t0.0255882164849\n",
      "October 23rd, 2014 \t\tOctober 30th, 2014 \t\t2.781 \t\t0.0255882164849\n",
      "October 30th, 2014 \t\tNovember 6th, 2014 \t\t2.8 \t\t0.0298529192324\n",
      "November 6th, 2014 \t\tNovember 13th, 2014 \t\t2.817 \t\t0.0255882164849\n",
      "November 13th, 2014 \t\tNovember 20th, 2014 \t\t2.836 \t\t0.0255882164849\n",
      "November 20th, 2014 \t\tNovember 27th, 2014 \t\t2.856 \t\t0.0255882164849\n",
      "November 27th, 2014 \t\tDecember 4th, 2014 \t\t2.875 \t\t0.0255882164849\n",
      "December 4th, 2014 \t\tDecember 11th, 2014 \t\t2.894 \t\t0.0255882164849\n",
      "December 11th, 2014 \t\tDecember 18th, 2014 \t\t2.914 \t\t0.0255882164849\n",
      "December 18th, 2014 \t\tDecember 25th, 2014 \t\t2.933 \t\t0.0255882164849\n",
      "December 25th, 2014 \t\tJanuary 1st, 2015 \t\t2.953 \t\t0.0298529192324\n",
      "January 1st, 2015 \t\tJanuary 8th, 2015 \t\t2.969 \t\t0.0255882164849\n",
      "January 8th, 2015 \t\tJanuary 15th, 2015 \t\t2.989 \t\t0.0255882164849\n",
      "January 15th, 2015 \t\tJanuary 22nd, 2015 \t\t3.008 \t\t0.0266143958856\n",
      "January 22nd, 2015 \t\tJanuary 29th, 2015 \t\t3.028 \t\t0.0291798443874\n",
      "January 29th, 2015 \t\tFebruary 5th, 2015 \t\t3.047 \t\t0.0340431517853\n",
      "February 5th, 2015 \t\tFebruary 12th, 2015 \t\t3.064 \t\t0.0291798443874\n",
      "February 12th, 2015 \t\tFebruary 19th, 2015 \t\t3.083 \t\t0.0291798443874\n",
      "February 19th, 2015 \t\tFebruary 26th, 2015 \t\t3.103 \t\t0.0291798443874\n",
      "February 26th, 2015 \t\tMarch 5th, 2015 \t\t3.122 \t\t0.0226954345235\n",
      "March 5th, 2015 \t\tMarch 12th, 2015 \t\t3.147 \t\t0.0291798443874\n",
      "March 12th, 2015 \t\tMarch 19th, 2015 \t\t3.167 \t\t0.0291798443874\n",
      "March 19th, 2015 \t\tMarch 26th, 2015 \t\t3.186 \t\t0.0291798443874\n",
      "March 26th, 2015 \t\tApril 2nd, 2015 \t\t3.206 \t\t0.0340431517853\n",
      "April 2nd, 2015 \t\tApril 9th, 2015 \t\t3.222 \t\t0.0291798443874\n",
      "April 9th, 2015 \t\tApril 16th, 2015 \t\t3.242 \t\t0.0291798443874\n",
      "April 16th, 2015 \t\tApril 23rd, 2015 \t\t3.261 \t\t0.0291798443874\n",
      "April 23rd, 2015 \t\tApril 30th, 2015 \t\t3.281 \t\t0.0291798443874\n",
      "April 30th, 2015 \t\tMay 7th, 2015 \t\t3.3 \t\t0.0291798443874\n",
      "May 7th, 2015 \t\tMay 14th, 2015 \t\t3.319 \t\t0.0291798443874\n",
      "May 14th, 2015 \t\tMay 21st, 2015 \t\t3.339 \t\t0.0291798443874\n",
      "May 21st, 2015 \t\tMay 28th, 2015 \t\t3.358 \t\t0.0291798443874\n",
      "May 28th, 2015 \t\tJune 4th, 2015 \t\t3.378 \t\t0.0340431517853\n",
      "June 4th, 2015 \t\tJune 11th, 2015 \t\t3.394 \t\t0.0291798443874\n",
      "June 11th, 2015 \t\tJune 18th, 2015 \t\t3.414 \t\t0.0291798443874\n",
      "June 18th, 2015 \t\tJune 25th, 2015 \t\t3.433 \t\t0.0291798443874\n",
      "June 25th, 2015 \t\tJuly 2nd, 2015 \t\t3.453 \t\t0.0291798443874\n",
      "July 2nd, 2015 \t\tJuly 9th, 2015 \t\t3.472 \t\t0.0291798443874\n",
      "July 9th, 2015 \t\tJuly 16th, 2015 \t\t3.492 \t\t0.0291798443874\n",
      "July 16th, 2015 \t\tJuly 23rd, 2015 \t\t3.511 \t\t0.0291798443874\n",
      "July 23rd, 2015 \t\tJuly 30th, 2015 \t\t3.531 \t\t0.0291798443874\n",
      "July 30th, 2015 \t\tAugust 6th, 2015 \t\t3.55 \t\t0.0340431517853\n",
      "August 6th, 2015 \t\tAugust 13th, 2015 \t\t3.567 \t\t0.0291798443874\n",
      "August 13th, 2015 \t\tAugust 20th, 2015 \t\t3.586 \t\t0.0291798443874\n",
      "August 20th, 2015 \t\tAugust 27th, 2015 \t\t3.606 \t\t0.0291798443874\n",
      "August 27th, 2015 \t\tSeptember 3rd, 2015 \t\t3.625 \t\t0.0340431517853\n",
      "September 3rd, 2015 \t\tSeptember 10th, 2015 \t\t3.642 \t\t0.0291798443874\n",
      "September 10th, 2015 \t\tSeptember 17th, 2015 \t\t3.661 \t\t0.0291798443874\n",
      "September 17th, 2015 \t\tSeptember 24th, 2015 \t\t3.681 \t\t0.0291798443874\n",
      "September 24th, 2015 \t\tOctober 1st, 2015 \t\t3.7 \t\t0.0291798443874\n",
      "October 1st, 2015 \t\tOctober 8th, 2015 \t\t3.719 \t\t0.0291798443874\n",
      "October 8th, 2015 \t\tOctober 15th, 2015 \t\t3.739 \t\t0.0291798443874\n",
      "October 15th, 2015 \t\tOctober 22nd, 2015 \t\t3.758 \t\t0.0291798443874\n",
      "October 22nd, 2015 \t\tOctober 29th, 2015 \t\t3.778 \t\t0.0291798443874\n",
      "October 29th, 2015 \t\tNovember 5th, 2015 \t\t3.797 \t\t0.0340431517853\n"
     ]
    }
   ],
   "source": [
    "for start_date, end, tn,  fwd in zip(monthly_dates[50:-1], monthly_dates[51:], tenors, fwd_4):\n",
    "    print start_date, \"\\t\\t\", end, \"\\t\\t\", round(tn, 3), \"\\t\\t\", fwd"
   ]
  },
  {
   "cell_type": "markdown",
   "metadata": {},
   "source": [
    "### Looks like the jumps always happen at the month end and the reason being the DayCount Convention used when bootstrap curves and calculate forward curve is different."
   ]
  },
  {
   "cell_type": "markdown",
   "metadata": {},
   "source": [
    "The forward rate is calculated using 30/360.\n",
    "Day count convention of 30/360 means that DCF = 360 * (Y2 - Y1) + 30 * (M2 - M1) + (D2 - D1)\n",
    "As a result, for month which have days more than 30, DCF is smaller and therefore the forward is bigger. Check March, May, July, August and December. The October, 2013 is normal as the start date is on 31th Oct, 2013. \n",
    "Similary, for month of February, DCF is bigger and therefore the forward rate is smaller."
   ]
  },
  {
   "cell_type": "markdown",
   "metadata": {},
   "source": [
    "#### change to use the same day count convention"
   ]
  },
  {
   "cell_type": "code",
   "execution_count": 16,
   "metadata": {},
   "outputs": [],
   "source": [
    "updated_fwd_1 = []\n",
    "updated_fwd_2 = []\n",
    "updated_fwd_3 = []\n",
    "updated_fwd_4 = []\n",
    "updated_tenors = []\n",
    "#we need .rate() in the end to extract the number\n",
    "for i in range(num_months):\n",
    "    updated_tenors.append(ql.Thirty360().yearFraction(ref_date, monthly_dates[i]))\n",
    "    updated_fwd_1.append(yieldcurve_1.forwardRate(monthly_dates[i], monthly_dates[i+1], \n",
    "                                         ql.Actual360(), ql.Continuous).rate())\n",
    "    updated_fwd_2.append(yieldcurve_2.forwardRate(monthly_dates[i], monthly_dates[i+1], \n",
    "                                         ql.Actual360(), ql.Continuous).rate())\n",
    "    updated_fwd_3.append(yieldcurve_3.forwardRate(monthly_dates[i], monthly_dates[i+1], \n",
    "                                         ql.Actual360(), ql.Continuous).rate())\n",
    "    updated_fwd_4.append(yieldcurve_4.forwardRate(monthly_dates[i], monthly_dates[i+1], \n",
    "                                         ql.Actual360(), ql.Continuous).rate())"
   ]
  },
  {
   "cell_type": "code",
   "execution_count": 17,
   "metadata": {},
   "outputs": [
    {
     "data": {
      "text/plain": [
       "<matplotlib.legend.Legend at 0x96b5400>"
      ]
     },
     "execution_count": 17,
     "metadata": {},
     "output_type": "execute_result"
    },
    {
     "data": {
      "image/png": "[encoded data removed]",
      "text/plain": [
       "<Figure size 432x288 with 1 Axes>"
      ]
     },
     "metadata": {},
     "output_type": "display_data"
    }
   ],
   "source": [
    "#plt.plot(updated_tenors, updated_fwd_1,\"r.\", label = 'Cubic Log Discount')\n",
    "plt.plot(updated_tenors, updated_fwd_2,\"b--\", label = 'Linear Zero')\n",
    "#plt.plot(updated_tenors, updated_fwd_3, 'green', label = 'Cubic Zero')\n",
    "plt.plot(updated_tenors, updated_fwd_4, 'm*', label = 'Log Linear DF')\n",
    "plt.legend()"
   ]
  },
  {
   "cell_type": "markdown",
   "metadata": {},
   "source": [
    "## re-pricing of the curve instruments"
   ]
  },
  {
   "cell_type": "code",
   "execution_count": 18,
   "metadata": {},
   "outputs": [],
   "source": [
    "#need put yield curve into handle class\n",
    "libor_curve = ql.YieldTermStructureHandle(yieldcurve_4)\n",
    "libor3M_index = ql.USDLibor(ql.Period(3, ql.Months), libor_curve)\n",
    "settle_date = ql.UnitedStates().advance(ref_date, 2, ql.Days)\n",
    "maturity_date = ql.UnitedStates().advance(settle_date, 1, ql.Years)\n",
    "fixed_leg_tenor = ql.Period(6, ql.Months)\n",
    "fixed_schedule = ql.Schedule(settle_date, maturity_date, \n",
    "                             fixed_leg_tenor, ql.UnitedStates(),\n",
    "                             ql.Following, ql.Following,\n",
    "                             ql.DateGeneration.Backward, False)\n",
    "float_leg_tenor = ql.Period(3, ql.Months)\n",
    "float_schedule = ql.Schedule (settle_date, maturity_date, \n",
    "                              float_leg_tenor, ql.UnitedStates(),\n",
    "                              ql.Following, ql.Following,\n",
    "                              ql.DateGeneration.Backward, False)"
   ]
  },
  {
   "cell_type": "code",
   "execution_count": 19,
   "metadata": {},
   "outputs": [],
   "source": [
    "notional = 10000000\n",
    "fixed_rate = Swap_rate[0]/100.0 # don't forget divide 100, lol\n",
    "\n",
    "ir_swap = ql.VanillaSwap(ql.VanillaSwap.Payer, notional, fixed_schedule, \n",
    "               fixed_rate, ql.Thirty360(), float_schedule,\n",
    "               libor3M_index, 0, ql.Actual360())\n",
    "#Need use the correct daycount convention, 30/360 for fixed leg and Actual/360 for float"
   ]
  },
  {
   "cell_type": "code",
   "execution_count": 20,
   "metadata": {},
   "outputs": [],
   "source": [
    "swap_engine = ql.DiscountingSwapEngine(libor_curve)\n",
    "ir_swap.setPricingEngine(swap_engine)"
   ]
  },
  {
   "cell_type": "code",
   "execution_count": 21,
   "metadata": {},
   "outputs": [
    {
     "name": "stdout",
     "output_type": "stream",
     "text": [
      "swap PV:  5.23868948221e-10\n",
      "ratio of PV to Notional 5.23868948221e-17\n"
     ]
    }
   ],
   "source": [
    "print 'swap PV: ', ir_swap.NPV()\n",
    "print 'ratio of PV to Notional', ir_swap.NPV()/notional\n"
   ]
  },
  {
   "cell_type": "code",
   "execution_count": 22,
   "metadata": {},
   "outputs": [
    {
     "name": "stdout",
     "output_type": "stream",
     "text": [
      "1 January 17th, 2012\n",
      "2 July 17th, 2012\n",
      "3 January 17th, 2013\n"
     ]
    }
   ],
   "source": [
    "for i, d in enumerate(fixed_schedule):\n",
    "    print i+1, d"
   ]
  },
  {
   "cell_type": "code",
   "execution_count": 23,
   "metadata": {},
   "outputs": [
    {
     "name": "stdout",
     "output_type": "stream",
     "text": [
      "1 January 17th, 2012\n",
      "2 April 17th, 2012\n",
      "3 July 17th, 2012\n",
      "4 October 17th, 2012\n",
      "5 January 17th, 2013\n"
     ]
    }
   ],
   "source": [
    "for i, d in enumerate(float_schedule):\n",
    "    print i+1, d"
   ]
  }
 ],
 "metadata": {
  "kernelspec": {
   "display_name": "Python 2",
   "language": "python",
   "name": "python2"
  },
  "language_info": {
   "codemirror_mode": {
    "name": "ipython",
    "version": 2
   },
   "file_extension": ".py",
   "mimetype": "text/x-python",
   "name": "python",
   "nbconvert_exporter": "python",
   "pygments_lexer": "ipython2",
   "version": "2.7.15"
  }
 },
 "nbformat": 4,
 "nbformat_minor": 2
}
